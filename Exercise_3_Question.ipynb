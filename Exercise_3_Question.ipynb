{
  "nbformat": 4,
  "nbformat_minor": 0,
  "metadata": {
    "colab": {
      "name": "Copy of Exercise 3 - Question.ipynb",
      "provenance": [],
      "collapsed_sections": [],
      "toc_visible": true,
      "include_colab_link": true
    },
    "kernelspec": {
      "display_name": "Python 3",
      "name": "python3"
    }
  },
  "cells": [
    {
      "cell_type": "markdown",
      "metadata": {
        "id": "view-in-github",
        "colab_type": "text"
      },
      "source": [
        "<a href=\"https://colab.research.google.com/github/cnaseeb/AIHub/blob/master/Exercise_3_Question.ipynb\" target=\"_parent\"><img src=\"https://colab.research.google.com/assets/colab-badge.svg\" alt=\"Open In Colab\"/></a>"
      ]
    },
    {
      "cell_type": "markdown",
      "metadata": {
        "colab_type": "text",
        "id": "iQjHqsmTAVLU"
      },
      "source": [
        "## Exercise 3\n",
        "In the videos you looked at how you would improve Fashion MNIST using Convolutions. For your exercise see if you can improve MNIST to 99.8% accuracy or more using only a single convolutional layer and a single MaxPooling 2D. You should stop training once the accuracy goes above this amount. It should happen in less than 20 epochs, so it's ok to hard code the number of epochs for training, but your training must end once it hits the above metric. If it doesn't, then you'll need to redesign your layers.\n",
        "\n",
        "I've started the code for you -- you need to finish it!\n",
        "\n",
        "When 99.8% accuracy has been hit, you should print out the string \"Reached 99.8% accuracy so cancelling training!\"\n"
      ]
    },
    {
      "cell_type": "code",
      "metadata": {
        "colab_type": "code",
        "id": "sfQRyaJWAIdg",
        "colab": {}
      },
      "source": [
        "import tensorflow as tf\n",
        "\n",
        "# YOUR CODE STARTS HERE\n",
        "class myCallback(tf.keras.callbacks.Callback):\n",
        "  def on_epoch_end(self, epochs, logs={}):\n",
        "    if(logs.get('accuracy')>0.998):\n",
        "      print(\"\\n Reached 99.8% accuracy so cancelling training of the NN\")\n",
        "      self.model.stop_training= True\n",
        "# YOUR CODE ENDS HERE\n",
        "\n",
        "mnist = tf.keras.datasets.mnist\n",
        "(training_images, training_labels), (test_images, test_labels) = mnist.load_data()\n",
        "\n",
        "# YOUR CODE STARTS HERE\n",
        "    training_images = training_images.reshape(60000, 28, 28, 1)\n",
        "    training_images = training_images / 255.0\n",
        "    test_images = test_images.reshape(10000, 28, 28, 1)\n",
        "    test_images = test_images / 255.0\n",
        "    callbacks = myCallback()\n",
        "# YOUR CODE ENDS HERE\n",
        "\n",
        "model = tf.keras.models.Sequential([\n",
        "    # YOUR CODE STARTS HERE\n",
        "    tf.keras.layers.Conv2D(32, (3,3), activation = tf.nn.relu, input_shape = (28, 28, 1)),\n",
        "    tf.keras.layers.MaxPooling2D(2, 2),\n",
        "    tf.keras.layers.Flatten(),\n",
        "    tf.keras.layers.Dense(128, activation = tf.nn.relu),\n",
        "    tf.keras.layers.Dense(10, activation=tf.nn.softmax)\n",
        "    # YOUR CODE ENDS HERE\n",
        "])\n",
        "\n",
        "# YOUR CODE STARTS HERE\n",
        "model.compile(optimizer='adam', loss='sparse_categorical_crossentropy', metrics=['accuracy'])\n",
        "model.fit(training_images, training_labels, epochs=10, callbacks = [callbacks]\n",
        "# YOUR CODE ENDS HERE\n"
      ],
      "execution_count": 0,
      "outputs": []
    }
  ]
}